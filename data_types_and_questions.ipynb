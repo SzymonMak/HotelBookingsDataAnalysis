{
 "cells": [
  {
   "cell_type": "markdown",
   "metadata": {},
   "source": [
    "| int64 | category | bool | character | date | float64 |\n",
    "|-------|---------|------|----------|-----------|-------|\n",
    "|lead_time       |hotel        |is_canceled      |country          |arrival_date*           |       |\n",
    "|arrival_date_year       |arrival_date_year         |is_repeated_guest      |agent          |reservation_status_date           |       |\n",
    "|arrival_date_month       |arrival_date_month         |      |company          |           |       |\n",
    "|arrival_date_day_of_month       |arrival_date_day_of_month         |      |          |           |       |\n",
    "|arrival_date_week_number       |children         |      |          |           |       |\n",
    "|stays_in_weekend_nights|adults|||||\n",
    "|stays_in_week_nights|babies|||||\n",
    "|children|meal|||||\n",
    "|adults|country|||||\n",
    "|babies|market_segment|||||\n",
    "|previous_cancellations|distribution_channel|||||\n",
    "|previous_bookings_not_canceled|reserved_room_type|||||\n",
    "|booking_changes|assigned_room_type|||||\n",
    "|days_in_waiting_list|deposit_type|||||\n",
    "|adr|customer_type|||||\n",
    "|required_car_parking_spaces|required_car_parking_spaces|||||\n",
    "|total_of_special_requests|total_of_special_requests|||||\n",
    "||reservation_status|||||"
   ]
  },
  {
   "cell_type": "markdown",
   "metadata": {},
   "source": [
    "Zmienne numeryczne do analizy:\n",
    "1. lead_time\n",
    "2. arrival_date *\n",
    "3. stays_days *\n",
    "4. number_of_people *\n",
    "5. is_repeated_guest / previous_cancellations / previous_bookings_not_canceled\n",
    "6. days_in_waiting_list / total_of_special_requests\n",
    "7. company / agent\n",
    "\n",
    "Zależności numeryczne do analizy:\n",
    "1. lead_time vs. is_canceled\n",
    "2. is_canceled vs. requested_car_parking_spaces / total_of_special_requests\n",
    "3. arrival_date_year vs. arrival_date_week_number\n",
    "4. stays_in_weekend_nights vs. stays_in_week_nights\n",
    "5. is_repeated_guest vs. previous_booking_not_canceled\n",
    "6. company vs. is_repeated_guest / previous_cancellations / previous_booking_not_canceled\n",
    "7. company vs. agent"
   ]
  },
  {
   "cell_type": "markdown",
   "metadata": {
    "vscode": {
     "languageId": "plaintext"
    }
   },
   "source": [
    "Zmienne kategoryczne do analizy:\n",
    "1. hotel\n",
    "2. market_segment / distribution_channel\n",
    "3. reserved_room_type / assigned_room_type\n",
    "4. deposit_type\n",
    "5. customer_type\n",
    "6. arrival_date_month\n",
    "7. adults\n",
    "8. children / babies\n",
    "9. is_repeated_guest\n",
    "\n",
    "Zależności kategoryczne do analizy:\n",
    "1. hotel vs. is_canceled\n",
    "2. hotel vs. customer_type\n",
    "3. hotel vs. arrival_date_month\n",
    "4. hotel vs adults / children / babies\n",
    "5. is_repeated_guest vs. is_canceled\n",
    "6. distribution_channel / market_segment vs. is_canceled\n",
    "7. distribution_channel / market_segment vs. hotel\n",
    "8. deposit_type vs. is_canceled\n",
    "9. customer_type vs. hotel\n",
    "10. customer_type vs. is_canceled\n",
    "11. market_segment / distribution_channel vs. deposit_type\n",
    "12. company vs. customer_type"
   ]
  },
  {
   "cell_type": "markdown",
   "metadata": {
    "vscode": {
     "languageId": "plaintext"
    }
   },
   "source": [
    "Zależności numeryczne-kategoryczne do analizy:\n",
    "1. is_repeated_guest vs. previous_cancellations / previous_booking_not_canceled"
   ]
  },
  {
   "cell_type": "markdown",
   "metadata": {
    "vscode": {
     "languageId": "plaintext"
    }
   },
   "source": [
    "Pytania:\n",
    "1. Czy odwołanie wizyty zależy w jakiś sposób od liczby osób, które mają się pojawić (dzieci + rodzice)? Im więcej osób tym większa szansa, że ktoś zrezygnuje.\n",
    "2. Czy istnieje związek między powrotem gościa, który już był w hotelu a tym czy odwoła kolejną rezerwację? Oraz między liczbą anulowanych rezerwacji i liczbą nieodwołanych rezerwacji.\n",
    "3. Dlaczego typ zmiennej children to float64?\n",
    "4. Czy fakt w jaki sposób ktoś zarezerwował hotel (distribution_channel, market_segment) jest istotny w kontekście wycofania rezerwacji?\n",
    "5. Jak to jest z tymi zaliczkami dlaczego jest tyle wycofanych rezerwacji, gdy mamy do czynienia z niezwracalną zaliczką?\n",
    "6. Skąd pochodzą goście?\n",
    "7. Ile goście płacą za pokój za noc?\n",
    "8. Jak cena za noc zmienia się w ciągu roku?\n",
    "9. Które miesiące są najbardziej obłożone?\n",
    "10. Jak długo goście przebywają w hotelach?\n",
    "11. Rezerwacje według segmentu rynku.\n",
    "12. Ile rezerwacji zostało anulowanych?\n",
    "13. Który miesiąc ma najwyższą liczbę anulacji?"
   ]
  },
  {
   "cell_type": "markdown",
   "metadata": {
    "vscode": {
     "languageId": "plaintext"
    }
   },
   "source": [
    "Rozwiązania:\n",
    "1. W zmiennej country wybrać tylko te najpopularniejsze kraje. \n",
    "2. Usunąć rekordy gdzie total_nights == 0\n",
    "3. Usunąć rekordy gdzie suma(adults, children, babies) == 0"
   ]
  }
 ],
 "metadata": {
  "language_info": {
   "name": "python"
  }
 },
 "nbformat": 4,
 "nbformat_minor": 2
}
